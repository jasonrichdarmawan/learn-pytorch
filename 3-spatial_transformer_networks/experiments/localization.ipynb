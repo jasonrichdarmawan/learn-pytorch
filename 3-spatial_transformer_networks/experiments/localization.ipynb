{
 "cells": [
  {
   "cell_type": "code",
   "execution_count": 1,
   "metadata": {},
   "outputs": [
    {
     "name": "stdout",
     "output_type": "stream",
     "text": [
      "Localization output shape: torch.Size([1, 10, 3, 3])\n",
      "Localization output: tensor([[[[0.0000, 0.0000, 0.0000],\n",
      "          [0.0000, 0.0000, 0.0000],\n",
      "          [0.0000, 0.2192, 0.0000]],\n",
      "\n",
      "         [[0.0667, 0.0767, 0.4927],\n",
      "          [0.1802, 0.0000, 0.0755],\n",
      "          [0.4317, 0.0000, 0.3128]],\n",
      "\n",
      "         [[0.0000, 0.0300, 0.0000],\n",
      "          [0.2942, 0.0000, 0.3180],\n",
      "          [0.0000, 0.0000, 0.0000]],\n",
      "\n",
      "         [[0.0000, 0.0000, 0.0000],\n",
      "          [0.0000, 0.0000, 0.0000],\n",
      "          [0.0000, 0.0000, 0.0000]],\n",
      "\n",
      "         [[0.2538, 0.0795, 0.3774],\n",
      "          [0.0087, 0.0883, 0.0000],\n",
      "          [0.0000, 0.0671, 0.4181]],\n",
      "\n",
      "         [[0.0000, 0.0000, 0.0000],\n",
      "          [0.0000, 0.0000, 0.0000],\n",
      "          [0.0000, 0.0000, 0.0000]],\n",
      "\n",
      "         [[0.8234, 0.8853, 0.6888],\n",
      "          [0.7737, 0.8117, 0.9439],\n",
      "          [0.4719, 0.6555, 0.8744]],\n",
      "\n",
      "         [[0.5793, 0.8604, 0.7705],\n",
      "          [0.4471, 0.5315, 0.7647],\n",
      "          [0.5420, 0.9703, 0.7290]],\n",
      "\n",
      "         [[0.1144, 0.0000, 0.0252],\n",
      "          [0.0000, 0.0000, 0.1074],\n",
      "          [0.1773, 0.0222, 0.0000]],\n",
      "\n",
      "         [[0.0000, 0.1488, 0.0000],\n",
      "          [0.0000, 0.0000, 0.0000],\n",
      "          [0.1981, 0.0000, 0.0000]]]], grad_fn=<ReluBackward0>)\n"
     ]
    }
   ],
   "source": [
    "import torch\n",
    "import torch.nn as nn\n",
    "\n",
    "localization = nn.Sequential(nn.Conv2d(1, 8, kernel_size=7),  # 1 input channel, 8 output channels, 7x7 kernel\n",
    "                                                              # Output size: ( 28 + 0 - 6 - 1 ) / 1 + 1 = 22\n",
    "                                                              # so shape becomes (8, 22, 22)\n",
    "                             nn.MaxPool2d(2, stride=2),       # Max pooling with 2x2 window\n",
    "                                                              # Output size: ( 22 + 0 - 1 - 1 ) / 2 + 1 = 11\n",
    "                                                              # so shape becomes (8, 11, 11)\n",
    "                             nn.ReLU(True),                   # max(0, x)\n",
    "                             nn.Conv2d(8, 10, kernel_size=5), # 8 input channels, 10 output channels, 5x5 kernel\n",
    "                                                              # Output size: 11 + 0 - 4 - 1 / 1 + 1 = 7\n",
    "                                                              # so shape becomes (10, 7, 7)\n",
    "                             nn.MaxPool2d(2, stride=2),       # Max pooling with 2x2 window\n",
    "                                                              # Output size: 7 + 0 - 1 - 1 / 2 + 1 = 3\n",
    "                                                              # so shape becomes (10, 3, 3)\n",
    "                             nn.ReLU(True)                    # max(0, x)\n",
    "                           )\n",
    "  \n",
    "dummy_input = torch.randn(1, 1, 28, 28)\n",
    "\n",
    "output = localization(dummy_input)\n",
    "\n",
    "print(\"Localization output shape:\", output.shape)\n",
    "print(\"Localization output:\", output)"
   ]
  },
  {
   "cell_type": "code",
   "execution_count": 8,
   "metadata": {},
   "outputs": [
    {
     "name": "stdout",
     "output_type": "stream",
     "text": [
      "Input shape: torch.Size([2, 10, 3, 3])\n",
      "Flattened shape: torch.Size([2, 90])\n"
     ]
    }
   ],
   "source": [
    "import torch\n",
    "\n",
    "dummy_input = torch.randn(2, 1, 28, 28)\n",
    "\n",
    "x = localization(dummy_input)\n",
    "print(\"Input shape:\", x.shape)\n",
    "xs = x.view(-1, 10 * 3 * 3)\n",
    "print(\"Flattened shape:\", xs.shape)"
   ]
  },
  {
   "cell_type": "code",
   "execution_count": 14,
   "metadata": {},
   "outputs": [
    {
     "name": "stderr",
     "output_type": "stream",
     "text": [
      "/usr/local/lib/python3.10/dist-packages/torch/nn/functional.py:5082: UserWarning: Default grid_sample and affine_grid behavior has changed to align_corners=False since 1.3.0. Please specify align_corners=True if the old behavior is desired. See the documentation of grid_sample for details.\n",
      "  warnings.warn(\n",
      "/usr/local/lib/python3.10/dist-packages/torch/nn/functional.py:5015: UserWarning: Default grid_sample and affine_grid behavior has changed to align_corners=False since 1.3.0. Please specify align_corners=True if the old behavior is desired. See the documentation of grid_sample for details.\n",
      "  warnings.warn(\n"
     ]
    },
    {
     "data": {
      "text/plain": [
       "(torch.Size([2, 2, 3]), torch.Size([2, 28, 28, 2]), torch.Size([2, 1, 28, 28]))"
      ]
     },
     "execution_count": 14,
     "metadata": {},
     "output_type": "execute_result"
    }
   ],
   "source": [
    "import torch\n",
    "import torch.nn.functional as F\n",
    "\n",
    "theta = torch.randn(2, 2, 3)\n",
    "\n",
    "grid = F.affine_grid(theta, dummy_input.size())\n",
    "\n",
    "x = F.grid_sample(dummy_input, grid)\n",
    "\n",
    "theta.shape, grid.shape, x.shape"
   ]
  },
  {
   "cell_type": "code",
   "execution_count": 16,
   "metadata": {},
   "outputs": [
    {
     "data": {
      "text/plain": [
       "torch.Size([2, 1, 28, 28])"
      ]
     },
     "execution_count": 16,
     "metadata": {},
     "output_type": "execute_result"
    }
   ],
   "source": [
    "import torch.nn as nn\n",
    "\n",
    "conv2_drop = nn.Dropout2d(0.5)\n",
    "\n",
    "conv2_drop(x).shape"
   ]
  },
  {
   "cell_type": "code",
   "execution_count": 17,
   "metadata": {},
   "outputs": [
    {
     "data": {
      "text/plain": [
       "torch.Size([2, 10, 12, 12])"
      ]
     },
     "execution_count": 17,
     "metadata": {},
     "output_type": "execute_result"
    }
   ],
   "source": [
    "import torch\n",
    "import torch.nn as nn\n",
    "\n",
    "dummy_input = torch.randn(2, 10, 24, 24)\n",
    "\n",
    "nn.MaxPool2d(2, stride=2)(dummy_input).shape"
   ]
  }
 ],
 "metadata": {
  "kernelspec": {
   "display_name": "usr",
   "language": "python",
   "name": "python3"
  },
  "language_info": {
   "codemirror_mode": {
    "name": "ipython",
    "version": 3
   },
   "file_extension": ".py",
   "mimetype": "text/x-python",
   "name": "python",
   "nbconvert_exporter": "python",
   "pygments_lexer": "ipython3",
   "version": "3.10.6"
  }
 },
 "nbformat": 4,
 "nbformat_minor": 2
}
