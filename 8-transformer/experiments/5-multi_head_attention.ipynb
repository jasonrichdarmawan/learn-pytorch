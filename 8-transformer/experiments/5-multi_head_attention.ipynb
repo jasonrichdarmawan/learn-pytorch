{
 "cells": [
  {
   "cell_type": "code",
   "execution_count": 10,
   "metadata": {},
   "outputs": [
    {
     "name": "stdout",
     "output_type": "stream",
     "text": [
      "Parameters in Linear: 262656\n",
      "Parameters in MultiHeadAttention: 1050624\n"
     ]
    }
   ],
   "source": [
    "from torch.nn import Linear, MultiheadAttention\n",
    "\n",
    "# Suppose we have 1,3,128,28 input tensor (batch size, channels, height, width)\n",
    "# Suppose we divide it by 16x16 patch, the output is 1,64,768 tensor (batch size, num_patches, channels*height*width)\n",
    "# Suppose we embed it to 1,64,512 tensor (batch size, num_patches, embed_dim)\n",
    "\n",
    "# Create a simple linear layer with input and output dimensions\n",
    "linear_single = Linear(512, 512)\n",
    "\n",
    "# Create a MultiHeadAttention layer\n",
    "# Note: MultiHeadAttention applies linear projections for query, key, and value, plus an output projection.\n",
    "mha_layer = MultiheadAttention(embed_dim=512, num_heads=2)\n",
    "\n",
    "# Count parameters in each module\n",
    "params_linear = sum(p.numel() for p in linear_single.parameters())\n",
    "params_mha = sum(p.numel() for p in mha_layer.parameters())\n",
    "\n",
    "print(\"Parameters in Linear:\", params_linear)\n",
    "print(\"Parameters in MultiHeadAttention:\", params_mha)"
   ]
  }
 ],
 "metadata": {
  "kernelspec": {
   "display_name": "3.10.14",
   "language": "python",
   "name": "python3"
  },
  "language_info": {
   "codemirror_mode": {
    "name": "ipython",
    "version": 3
   },
   "file_extension": ".py",
   "mimetype": "text/x-python",
   "name": "python",
   "nbconvert_exporter": "python",
   "pygments_lexer": "ipython3",
   "version": "3.10.14"
  }
 },
 "nbformat": 4,
 "nbformat_minor": 2
}
