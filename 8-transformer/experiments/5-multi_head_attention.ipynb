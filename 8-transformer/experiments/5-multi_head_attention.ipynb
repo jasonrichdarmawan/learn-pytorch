{
 "cells": [
  {
   "cell_type": "code",
   "execution_count": 53,
   "metadata": {},
   "outputs": [
    {
     "name": "stdout",
     "output_type": "stream",
     "text": [
      "tensor([[[[ 0.,  1.,  2.,  3.,  4.,  5.],\n",
      "          [ 6.,  7.,  8.,  9., 10., 11.],\n",
      "          [12., 13., 14., 15., 16., 17.],\n",
      "          [18., 19., 20., 21., 22., 23.]],\n",
      "\n",
      "         [[24., 25., 26., 27., 28., 29.],\n",
      "          [30., 31., 32., 33., 34., 35.],\n",
      "          [36., 37., 38., 39., 40., 41.],\n",
      "          [42., 43., 44., 45., 46., 47.]],\n",
      "\n",
      "         [[48., 49., 50., 51., 52., 53.],\n",
      "          [54., 55., 56., 57., 58., 59.],\n",
      "          [60., 61., 62., 63., 64., 65.],\n",
      "          [66., 67., 68., 69., 70., 71.]]]]) torch.Size([1, 3, 4, 6])\n",
      "tensor([[[ 0.,  2.,  4., 12., 14., 16.],\n",
      "         [ 1.,  3.,  5., 13., 15., 17.],\n",
      "         [ 6.,  8., 10., 18., 20., 22.],\n",
      "         [ 7.,  9., 11., 19., 21., 23.],\n",
      "         [24., 26., 28., 36., 38., 40.],\n",
      "         [25., 27., 29., 37., 39., 41.],\n",
      "         [30., 32., 34., 42., 44., 46.],\n",
      "         [31., 33., 35., 43., 45., 47.],\n",
      "         [48., 50., 52., 60., 62., 64.],\n",
      "         [49., 51., 53., 61., 63., 65.],\n",
      "         [54., 56., 58., 66., 68., 70.],\n",
      "         [55., 57., 59., 67., 69., 71.]]]) torch.Size([1, 12, 6])\n",
      "tensor([[[ 0.,  1.,  6.,  7., 24., 25., 30., 31., 48., 49., 54., 55.],\n",
      "         [ 2.,  3.,  8.,  9., 26., 27., 32., 33., 50., 51., 56., 57.],\n",
      "         [ 4.,  5., 10., 11., 28., 29., 34., 35., 52., 53., 58., 59.],\n",
      "         [12., 13., 18., 19., 36., 37., 42., 43., 60., 61., 66., 67.],\n",
      "         [14., 15., 20., 21., 38., 39., 44., 45., 62., 63., 68., 69.],\n",
      "         [16., 17., 22., 23., 40., 41., 46., 47., 64., 65., 70., 71.]]]) torch.Size([1, 6, 12])\n"
     ]
    }
   ],
   "source": [
    "import torch\n",
    "from torch.nn import Unfold, Linear\n",
    "\n",
    "channels = 3\n",
    "height = 4\n",
    "width = 6\n",
    "input = torch.arange(end=1 * channels * height * width, dtype=torch.float).view(1, channels, height, width) # batch_size, channels, height, width\n",
    "print(input, input.shape)\n",
    "unfold = Unfold(kernel_size=(2, 2), stride=(2, 2))\n",
    "patches: torch.Tensor = unfold(input) # batch_size, channels*kernel_size[0]*kernel_size[1], num_patches\n",
    "print(patches, patches.shape)\n",
    "patches = patches.permute(0, 2, 1) # batch_size, num_patches, channels*kernel_size[0]*kernel_size[1]\n",
    "print(patches, patches.shape)\n",
    "embed = Linear(12, 8)(patches)"
   ]
  },
  {
   "cell_type": "code",
   "execution_count": 61,
   "metadata": {},
   "outputs": [
    {
     "name": "stdout",
     "output_type": "stream",
     "text": [
      "Parameters in Linear: 2352\n",
      "Parameters in MultiHeadAttention: 288\n",
      "Output of Linear: torch.Size([1, 48])\n",
      "Output of MultiHeadAttention: torch.Size([1, 6, 8])\n"
     ]
    }
   ],
   "source": [
    "import torch\n",
    "from torch.nn import Unfold, Linear, MultiheadAttention\n",
    "\n",
    "# Suppose we have 1,3,4,6 input tensor (batch size, channels, height, width)\n",
    "# Suppose we divide it by 2x2 patch, the output is 1,6,12 tensor (batch size, num_patches, channels*height*width)\n",
    "# Suppose we embed it to 1,6,8 tensor (batch size, num_patches, embed_dim)\n",
    "\n",
    "channels = 3\n",
    "height = 4\n",
    "width = 6\n",
    "input = torch.arange(end=1 * channels * height * width, dtype=torch.float).view(1, channels, height, width) # batch_size, channels, height, width\n",
    "# print(input, input.shape)\n",
    "unfold_layer = Unfold(kernel_size=(2, 2), stride=(2, 2))\n",
    "patches: torch.Tensor = unfold_layer(input) # batch_size, channels*kernel_size[0]*kernel_size[1], num_patches\n",
    "# print(patches, patches.shape)\n",
    "patches = patches.permute(0, 2, 1) # batch_size, num_patches, channels*kernel_size[0]*kernel_size[1]\n",
    "# print(patches, patches.shape)\n",
    "embed_layer = Linear(12, 8)\n",
    "embed: torch.Tensor = embed_layer(patches)\n",
    "flattened_embed = embed.flatten(start_dim=1, end_dim=2) # batch_size, num_patches * embed_dim\n",
    "\n",
    "# Create a simple linear layer with input and output dimensions\n",
    "linear_layer = Linear(6 * 8, 6 * 8)\n",
    "linear = linear_layer(flattened_embed)\n",
    "\n",
    "# Create a MultiHeadAttention layer\n",
    "# Note: MultiHeadAttention applies linear projections for query, key, and value, plus an output projection.\n",
    "multi_head_attention_layer = MultiheadAttention(embed_dim=8, num_heads=2)\n",
    "multi_head_attention = multi_head_attention_layer(embed, embed, embed, need_weights=False)[0]\n",
    "\n",
    "# Count parameters in each module\n",
    "params_linear = sum(p.numel() for p in linear_layer.parameters())\n",
    "params_mha = sum(p.numel() for p in multi_head_attention_layer.parameters())\n",
    "\n",
    "print(\"Parameters in Linear:\", params_linear)\n",
    "print(\"Parameters in MultiHeadAttention:\", params_mha)\n",
    "\n",
    "print(\"Output of Linear:\", linear.shape)\n",
    "print(\"Output of MultiHeadAttention:\", multi_head_attention.shape)"
   ]
  }
 ],
 "metadata": {
  "kernelspec": {
   "display_name": "3.10.14",
   "language": "python",
   "name": "python3"
  },
  "language_info": {
   "codemirror_mode": {
    "name": "ipython",
    "version": 3
   },
   "file_extension": ".py",
   "mimetype": "text/x-python",
   "name": "python",
   "nbconvert_exporter": "python",
   "pygments_lexer": "ipython3",
   "version": "3.10.14"
  }
 },
 "nbformat": 4,
 "nbformat_minor": 2
}
