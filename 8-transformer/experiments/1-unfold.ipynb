{
 "cells": [
  {
   "cell_type": "code",
   "execution_count": null,
   "metadata": {},
   "outputs": [
    {
     "name": "stdout",
     "output_type": "stream",
     "text": [
      "Input tensor:\n",
      "tensor([[[[ 0.,  1.,  2.,  3.],\n",
      "          [ 4.,  5.,  6.,  7.],\n",
      "          [ 8.,  9., 10., 11.],\n",
      "          [12., 13., 14., 15.]]]])\n",
      "\n",
      "Unfolded tensor shape: torch.Size([1, 4, 4])\n",
      "Unfolded tensor:\n",
      "tensor([[[ 0.,  2.,  8., 10.],\n",
      "         [ 1.,  3.,  9., 11.],\n",
      "         [ 4.,  6., 12., 14.],\n",
      "         [ 5.,  7., 13., 15.]]])\n",
      "tensor([ 0.,  2.,  8., 10.])\n"
     ]
    }
   ],
   "source": [
    "import torch\n",
    "import torch.nn as nn\n",
    "\n",
    "# Video: https://www.youtube.com/watch?v=zVDDITt4XEA&t=181s\n",
    "\n",
    "# Create a sample input tensor with shape (batch_size, channels, height, width)\n",
    "# For demonstration, we'll use a 4x4 image with 1 channel and 1 batch.\n",
    "x = torch.arange(1 * 1 * 4 * 4, dtype=torch.float32).view(1, 1, 4, 4)\n",
    "print(\"Input tensor:\")\n",
    "print(x)\n",
    "\n",
    "# Define the Unfold operation.\n",
    "# Here, kernel_size determines the patch size (2x2 patches in this example),\n",
    "# stride sets the step size between patches, and padding/dilation are as usual.\n",
    "unfold = nn.Unfold(kernel_size=2, stride=2, padding=0)\n",
    "\n",
    "# Apply Unfold to extract patches.\n",
    "# The output will be of shape (batch_size, C * kernel_height * kernel_width, L)\n",
    "# where L is the number of sliding windows.\n",
    "patches = unfold(x)\n",
    "print(\"\\nUnfolded tensor shape:\", patches.shape)\n",
    "print(\"Unfolded tensor:\")\n",
    "print(patches)\n",
    "print(patches[0][0])"
   ]
  }
 ],
 "metadata": {
  "kernelspec": {
   "display_name": "3.10.14",
   "language": "python",
   "name": "python3"
  },
  "language_info": {
   "codemirror_mode": {
    "name": "ipython",
    "version": 3
   },
   "file_extension": ".py",
   "mimetype": "text/x-python",
   "name": "python",
   "nbconvert_exporter": "python",
   "pygments_lexer": "ipython3",
   "version": "3.10.14"
  }
 },
 "nbformat": 4,
 "nbformat_minor": 2
}
