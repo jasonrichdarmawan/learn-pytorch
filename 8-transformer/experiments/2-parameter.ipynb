{
 "cells": [
  {
   "cell_type": "code",
   "execution_count": 13,
   "metadata": {},
   "outputs": [
    {
     "name": "stdout",
     "output_type": "stream",
     "text": [
      "Parameter:\n",
      " Parameter containing:\n",
      "tensor([[-0.9756,  0.4318],\n",
      "        [-2.6790,  0.9375]], requires_grad=True)\n",
      "Loss:\n",
      " tensor(-2.2853, grad_fn=<SumBackward0>)\n",
      "Gradient:\n",
      " tensor([[1., 1.],\n",
      "        [1., 1.]])\n"
     ]
    }
   ],
   "source": [
    "from torch import tensor, randn\n",
    "from torch.nn import Parameter\n",
    "\n",
    "# Create a parameter tensor with random values\n",
    "p = Parameter(randn(2,2))\n",
    "# p = Parameter(tensor([[1.0,2.0],\n",
    "#                       [3.0,4.0]]))\n",
    "print(\"Parameter:\\n\", p)\n",
    "\n",
    "# Compute a simple loss (sum of all elements)\n",
    "loss = p.sum()\n",
    "print(\"Loss:\\n\", loss)\n",
    "\n",
    "# Backpropagate to compute gradients\n",
    "loss.backward()\n",
    "\n",
    "# Now the gradients are stored in p.grad\n",
    "print(\"Gradient:\\n\", p.grad)"
   ]
  }
 ],
 "metadata": {
  "kernelspec": {
   "display_name": "3.10.14",
   "language": "python",
   "name": "python3"
  },
  "language_info": {
   "codemirror_mode": {
    "name": "ipython",
    "version": 3
   },
   "file_extension": ".py",
   "mimetype": "text/x-python",
   "name": "python",
   "nbconvert_exporter": "python",
   "pygments_lexer": "ipython3",
   "version": "3.10.14"
  }
 },
 "nbformat": 4,
 "nbformat_minor": 2
}
