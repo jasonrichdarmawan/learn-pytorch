{
 "cells": [
  {
   "cell_type": "code",
   "execution_count": 12,
   "metadata": {},
   "outputs": [
    {
     "name": "stdout",
     "output_type": "stream",
     "text": [
      "mask unique values: [0. 1. 2.]\n",
      "image shape: (35, 51, 35), mask shape: (35, 51, 35)\n"
     ]
    },
    {
     "data": {
      "text/plain": [
       "<matplotlib.image.AxesImage at 0x1282e6560>"
      ]
     },
     "execution_count": 12,
     "metadata": {},
     "output_type": "execute_result"
    },
    {
     "data": {
      "image/png": "[encoded data removed]",
      "text/plain": [
       "<Figure size 640x480 with 1 Axes>"
      ]
     },
     "metadata": {},
     "output_type": "display_data"
    }
   ],
   "source": [
    "import nibabel as nib\n",
    "import numpy as np\n",
    "import matplotlib.pyplot as plt\n",
    "\n",
    "image = nib.load(\"../data/Task04_Hippocampus/imagesTr/hippocampus_001.nii.gz\")\n",
    "image = image.get_fdata()\n",
    "mask = nib.load(\"../data/Task04_Hippocampus/labelsTr/hippocampus_001.nii.gz\")\n",
    "mask = mask.get_fdata()\n",
    "print(f\"mask unique values: {np.unique(mask)}\")\n",
    "mask = np.ma.masked_where(mask == 0, mask)\n",
    "print(f\"image shape: {image.shape}, mask shape: {mask.shape}\")\n",
    "\n",
    "depth = 14\n",
    "plt.imshow(image[:,:,depth], cmap=\"gray\")\n",
    "plt.imshow(mask[:,:,depth], cmap=\"jet\", alpha=0.5)"
   ]
  },
  {
   "cell_type": "code",
   "execution_count": null,
   "metadata": {},
   "outputs": [
    {
     "data": {
      "application/vnd.jupyter.widget-view+json": {
       "model_id": "1a418ac527c24dcbb7b9bf1503896c35",
       "version_major": 2,
       "version_minor": 0
      },
      "text/plain": [
       "interactive(children=(IntSlider(value=0, continuous_update=False, description='Depth', max=34), Checkbox(value…"
      ]
     },
     "metadata": {},
     "output_type": "display_data"
    },
    {
     "data": {
      "text/plain": [
       "<function __main__.nii_file_viewer.<locals>.explore_nii_file(depth: int, show_mask: bool)>"
      ]
     },
     "execution_count": 3,
     "metadata": {},
     "output_type": "execute_result"
    }
   ],
   "source": [
    "import nibabel as nib\n",
    "import numpy as np\n",
    "import matplotlib.pyplot as plt\n",
    "from ipywidgets import interact, IntSlider, Checkbox\n",
    "\n",
    "def nii_file_viewer(image: np.ndarray, mask: np.ndarray):\n",
    "  def explore_nii_file(depth: int, show_mask: bool):\n",
    "    plt.figure(figsize=(10, 10))\n",
    "    plt.imshow(image[:,:,depth], cmap='gray')\n",
    "    if show_mask:\n",
    "      masked_mask = np.ma.masked_where(mask == 0, mask)\n",
    "      plt.imshow(masked_mask[:,:,depth], cmap=\"jet\", alpha=0.5)\n",
    "    plt.show()\n",
    "\n",
    "  slider = IntSlider(value=0, min=0, max=image.shape[2]-1, step=1, \n",
    "                     description='Depth', continuous_update=False)\n",
    "  checkbox = Checkbox(value=False, description=\"Show mask\")\n",
    "\n",
    "  return interact(explore_nii_file, depth=slider, show_mask=checkbox)\n",
    "\n",
    "nii_file_viewer(image, mask)"
   ]
  }
 ],
 "metadata": {
  "kernelspec": {
   "display_name": "3.10.14",
   "language": "python",
   "name": "python3"
  },
  "language_info": {
   "codemirror_mode": {
    "name": "ipython",
    "version": 3
   },
   "file_extension": ".py",
   "mimetype": "text/x-python",
   "name": "python",
   "nbconvert_exporter": "python",
   "pygments_lexer": "ipython3",
   "version": "3.10.14"
  }
 },
 "nbformat": 4,
 "nbformat_minor": 2
}
